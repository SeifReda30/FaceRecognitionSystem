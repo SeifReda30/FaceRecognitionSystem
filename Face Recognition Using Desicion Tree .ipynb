{
 "cells": [
  {
   "cell_type": "code",
   "execution_count": 1,
   "id": "001eb483",
   "metadata": {},
   "outputs": [],
   "source": [
    "import pyodbc\n",
    "import matplotlib.pyplot as plt\n",
    "import io\n",
    "import os\n",
    "from PIL import Image\n",
    "from numpy import asarray\n",
    "import numpy as np\n",
    "import cv2\n",
    "from mtcnn.mtcnn import MTCNN\n",
    "from numpy import expand_dims\n",
    "from sklearn.tree import DecisionTreeClassifier\n",
    "from tkinter import *\n",
    "from tkinter import filedialog\n",
    "import imageio\n",
    "from PIL import ImageTk,Image\n",
    "import tkinter.font as font\n",
    "from playsound import playsound"
   ]
  },
  {
   "cell_type": "code",
   "execution_count": 1,
   "id": "f979d71c",
   "metadata": {},
   "outputs": [
    {
     "data": {
      "text/plain": [
       "'\\nconn = pyodbc.connect( \\'Trusted_Connection=yes\\', Driver = \"{SQL Server Native Client 11.0};\" , Server= \\'DESKTOP-E7I8FQH\\' , Database= \\'Pictures\\')\\n \\n \\n \\nd = \"D:\\\\FCAIH Material\\\\Subjects Third Year\\\\First Term\\\\Artificial Intelligence\\\\Project\\\\images\"\\ni=0\\nx=0\\ny=0\\nfor path in os.listdir(d):\\n    if y==50:\\n        i=0\\n        x=0\\n    elif y > 50:\\n        if x == 5:\\n            i += 1\\n            x =0\\n    elif x==10:\\n        i += 1\\n        x = 0\\n    \\n    full_path = os.path.join(d, path)\\n    if os.path.isfile(full_path):\\n        cursor = conn.cursor()\\n        cursor.execute(\"insert into ImageTable (Class, image) values (\"+str(i)+\", (SELECT BulkColumn FROM Openrowset( Bulk \\'\"+full_path+\"\\', Single_Blob) as img))\")\\n        cursor.commit()\\n    x +=1\\n    y +=1\\n\\n'"
      ]
     },
     "execution_count": 1,
     "metadata": {},
     "output_type": "execute_result"
    }
   ],
   "source": [
    "\n",
    " \n",
    " \n",
    "'''\n",
    "conn = pyodbc.connect( 'Trusted_Connection=yes', Driver = \"{SQL Server Native Client 11.0};\" , Server= 'DESKTOP-E7I8FQH' , Database= 'Pictures')\n",
    " \n",
    " \n",
    " \n",
    "d = \"D:\\FCAIH Material\\Subjects Third Year\\First Term\\Artificial Intelligence\\Project\\Project 20 Code\\images\"\n",
    "i=0\n",
    "x=0\n",
    "y=0\n",
    "for path in os.listdir(d):\n",
    "    if y==50:\n",
    "        i=0\n",
    "        x=0\n",
    "    elif y > 50:\n",
    "        if x == 5:\n",
    "            i += 1\n",
    "            x =0\n",
    "    elif x==10:\n",
    "        i += 1\n",
    "        x = 0\n",
    "    \n",
    "    full_path = os.path.join(d, path)\n",
    "    if os.path.isfile(full_path):\n",
    "        cursor = conn.cursor()\n",
    "        cursor.execute(\"insert into ImageTable (Class, image) values (\"+str(i)+\", (SELECT BulkColumn FROM Openrowset( Bulk '\"+full_path+\"', Single_Blob) as img))\")\n",
    "        cursor.commit()\n",
    "    x +=1\n",
    "    y +=1\n",
    "\n",
    "'''"
   ]
  },
  {
   "cell_type": "code",
   "execution_count": 3,
   "id": "3fcbcb3d",
   "metadata": {},
   "outputs": [],
   "source": [
    "#demonstate face detection on 5 Celebrity Faces Dataset\n",
    "# extract a single face from a given photograph\n",
    "def extract_face(filename, required_size=(100,100)):\n",
    "    # load image from file\n",
    "    image = filename\n",
    "    # convert to RGB, if needed\n",
    "    image = image.convert('RGB')\n",
    "    # convert to array\n",
    "    pixels = asarray(image)\n",
    "    # create the detector, using default weights\n",
    "    detector = MTCNN()\n",
    "    # detect faces in the image\n",
    "    results = detector.detect_faces(pixels)\n",
    "    # extract the bounding box from the first face\n",
    "    x1, y1, width, height = results[0]['box']\n",
    "    # bug fix\n",
    "    x1, y1 = abs(x1), abs(y1)\n",
    "    x2, y2 = x1 + width, y1 + height\n",
    "    # extract the face\n",
    "    face = pixels[y1:y2, x1:x2]\n",
    "    # resize pixels to the model size\n",
    "    image = Image.fromarray(face)\n",
    "    image = image.resize(required_size)\n",
    "    face_array = asarray(image)\n",
    "    # scale pixel values\n",
    "    face_pixels = face_array.astype('float32')\n",
    "    # standardize pixel values across channels (global)\n",
    "    face_pixels = (face_pixels - np.min(face_pixels)) / (np.max(face_pixels) - np.min(face_pixels))\n",
    "    face_pixels = cv2.cvtColor(face_pixels, cv2.COLOR_BGR2GRAY)\n",
    "    # transform face into one sample\n",
    "    samples = expand_dims(face_pixels, axis=0)\n",
    "    samples=samples.flatten()\n",
    "    return samples"
   ]
  },
  {
   "cell_type": "code",
   "execution_count": 4,
   "id": "e70bc993",
   "metadata": {},
   "outputs": [
    {
     "name": "stdout",
     "output_type": "stream",
     "text": [
      "WARNING:tensorflow:5 out of the last 14 calls to <function Model.make_predict_function.<locals>.predict_function at 0x000002235D03B160> triggered tf.function retracing. Tracing is expensive and the excessive number of tracings could be due to (1) creating @tf.function repeatedly in a loop, (2) passing tensors with different shapes, (3) passing Python objects instead of tensors. For (1), please define your @tf.function outside of the loop. For (2), @tf.function has experimental_relax_shapes=True option that relaxes argument shapes that can avoid unnecessary retracing. For (3), please refer to https://www.tensorflow.org/guide/function#controlling_retracing and https://www.tensorflow.org/api_docs/python/tf/function for  more details.\n",
      "WARNING:tensorflow:6 out of the last 15 calls to <function Model.make_predict_function.<locals>.predict_function at 0x000002235D03B160> triggered tf.function retracing. Tracing is expensive and the excessive number of tracings could be due to (1) creating @tf.function repeatedly in a loop, (2) passing tensors with different shapes, (3) passing Python objects instead of tensors. For (1), please define your @tf.function outside of the loop. For (2), @tf.function has experimental_relax_shapes=True option that relaxes argument shapes that can avoid unnecessary retracing. For (3), please refer to https://www.tensorflow.org/guide/function#controlling_retracing and https://www.tensorflow.org/api_docs/python/tf/function for  more details.\n"
     ]
    }
   ],
   "source": [
    "id=[]\n",
    "images=[]\n",
    "X_train=[]\n",
    "y_train=[]\n",
    "X_test=[]\n",
    "y_test=[]\n",
    "\n",
    "conn = pyodbc.connect( 'Trusted_Connection=yes', Driver = \"{SQL Server Native Client 11.0};\" , Server= 'DESKTOP-E7I8FQH' , Database= 'Pictures')\n",
    "\n",
    "\n",
    "\n",
    "global img\n",
    "\n",
    "cursor = conn.cursor()\n",
    "\n",
    "cursor.execute(\"select * from ImageTable\")\n",
    "\n",
    "for row in cursor:\n",
    "    id.append(row[1])\n",
    "    images.append(row[2])\n",
    "\n",
    "for i in range (0,50):\n",
    "    image = Image.open(io.BytesIO(images[i]))\n",
    "    face=extract_face(image).reshape(1,-1)\n",
    "    X_train.append(face)\n",
    "    y_train.append(id[i])\n",
    "    \n",
    "for i in range (50,len(images)):\n",
    "    image = Image.open(io.BytesIO(images[i]))\n",
    "    face=extract_face(image).reshape(1,-1)\n",
    "    X_test.append(face)\n",
    "    y_test.append(id[i])"
   ]
  },
  {
   "cell_type": "code",
   "execution_count": 5,
   "id": "033431ec",
   "metadata": {},
   "outputs": [],
   "source": [
    "X_train = np.asarray(X_train)\n",
    "X_train=X_train.reshape(X_train.shape[0],X_train.shape[1]*X_train.shape[2])\n",
    "y_train = np.asarray(y_train)\n",
    "X_test = np.asarray(X_test)\n",
    "X_test=X_test.reshape(X_test.shape[0],X_test.shape[1]*X_test.shape[2])\n",
    "y_test = np.asarray(y_test)\n",
    "#print(X_train.shape)\n",
    "#print(X_test.shape)\n",
    "#print(y_train.shape)\n",
    "#print(y_test.shape)"
   ]
  },
  {
   "cell_type": "code",
   "execution_count": 6,
   "id": "2b9db883",
   "metadata": {},
   "outputs": [
    {
     "name": "stdout",
     "output_type": "stream",
     "text": [
      "DecisionTreeClassifierModel Train Score is :  100.0\n",
      "DecisionTreeClassifierModel Test Score is :  68.0\n"
     ]
    }
   ],
   "source": [
    "DecisionTreeClassifierModel = DecisionTreeClassifier(criterion='gini',max_depth=20,random_state=30)\n",
    "DecisionTreeClassifierModel.fit(X_train, y_train)\n",
    "print('DecisionTreeClassifierModel Train Score is : ' , DecisionTreeClassifierModel.score(X_train, y_train)*100)\n",
    "print('DecisionTreeClassifierModel Test Score is : ' , DecisionTreeClassifierModel.score(X_test, y_test)*100)"
   ]
  },
  {
   "cell_type": "code",
   "execution_count": null,
   "id": "e28cdd72",
   "metadata": {},
   "outputs": [],
   "source": []
  },
  {
   "cell_type": "code",
   "execution_count": 7,
   "id": "d5b9be8d",
   "metadata": {},
   "outputs": [],
   "source": [
    "root = Tk()\n",
    "bg = ImageTk.PhotoImage(file=\"ground.jpg\")\n",
    "canvas = Canvas(root,width= 400, height= 300)\n",
    "canvas.pack(fill= \"both\", expand=True)\n",
    "canvas.create_image(0, 0, image=bg, anchor=\"nw\")\n",
    "root.title(\"Face Recognition Using Desicion Tree\")\n",
    "root.geometry(\"1000x702\")\n",
    "myFont1 = font.Font(family=\"Helvetica\",size=12,weight=\"bold\")\n",
    "myFont2 = font.Font(family=\"Helvetica\",size=18,weight=\"bold\")\n",
    "\n",
    "def browseImages():\n",
    "    filename = filedialog.askopenfilename(initialdir = \"/\", title = \"Select an Image\",\n",
    "                                          filetypes = ((\"jpg\",\"*.jpg*\"),\n",
    "                                                       (\"png\",\"*.png*\"),\n",
    "                                                       (\"jpeg\",\"*.jpeg*\"),\n",
    "                                                       (\"jfif\",\"*.jfif*\"),\n",
    "                                                        )\n",
    "                                         )\n",
    "    global imag\n",
    "    imag=Image.open(filename)\n",
    "    img=ImageTk.PhotoImage(Image.open(filename).resize((350,350)))\n",
    "    global label\n",
    "    label = Label(root, padx=200 ,pady=150)\n",
    "    label.place(relx = 0.5, rely = 0.42, anchor = 'center')\n",
    "    label.configure(image=img)\n",
    "    label.image = img\n",
    "\n",
    "    \n",
    "def classify_image(img):\n",
    "    var = StringVar()\n",
    "    face=extract_face(img).reshape(1,-1)\n",
    "    y_pred = DecisionTreeClassifierModel.predict(face)\n",
    "    global label3\n",
    "    if(y_pred==0):\n",
    "            label3 = Label(root,text=\"Mohamed Salah\" , fg = \"Black\", padx=1000 ,pady=28,font=myFont2)\n",
    "            label3.place(relx = 0.5, rely = 0.05,anchor='center')\n",
    "            playsound(\"D:\\FCAIH Material\\Subjects Third Year\\First Term\\Artificial Intelligence\\Project\\project ai\\sounds\\Mo Salah, The Egyptian King! _ Learn LFC Songs (mp3cut.net).mp3\")\n",
    "    if(y_pred==1):\n",
    "            label3 = Label(root,text=\"Lionel Messi\" , fg = \"Black\", padx=1000 ,pady=28,font=myFont2)\n",
    "            label3.place(relx = 0.5, rely = 0.05,anchor='center')\n",
    "            playsound(\"D:\\FCAIH Material\\Subjects Third Year\\First Term\\Artificial Intelligence\\Project\\project ai\\sounds\\messi.mp3\")\n",
    "    if(y_pred==2):\n",
    "            label3 = Label(root,text=\"Will Smith\" , fg = \"Black\", padx=1000 ,pady=28,font=myFont2)\n",
    "            label3.place(relx = 0.5, rely = 0.05,anchor='center')\n",
    "            playsound(\"D:\\FCAIH Material\\Subjects Third Year\\First Term\\Artificial Intelligence\\Project\\project ai\\sounds\\mp3-output-ttsfree(dot)comwill.mp3\")\n",
    "    if(y_pred==3):\n",
    "            label3 = Label(root,text=\"Cristiano Ronaldo\" , fg = \"Black\", padx=1000 ,pady=28,font=myFont2)\n",
    "            label3.place(relx = 0.5, rely = 0.05,anchor='center')\n",
    "            playsound(\"D:\\FCAIH Material\\Subjects Third Year\\First Term\\Artificial Intelligence\\Project\\project ai\\sounds\\Siuuu Sound Effect #2.mp3\")\n",
    "    if(y_pred==4):\n",
    "            label3 = Label(root,text=\"Angelina Jolie\" , fg = \"Black\", padx=1000 ,pady=28,font=myFont2)\n",
    "            label3.place(relx = 0.5, rely = 0.05,anchor='center')\n",
    "            playsound(\"D:\\FCAIH Material\\Subjects Third Year\\First Term\\Artificial Intelligence\\Project\\project ai\\sounds\\mp3-output-ttsfree(dot)com.mp3\")\n",
    "\n",
    "\n",
    "def clear_label_image():\n",
    "    label.destroy()\n",
    "    label3.destroy()\n",
    "    \n",
    "\n",
    "    \n",
    "def reco():\n",
    "        classify_image(imag)\n",
    "        \n",
    "\n",
    "\n",
    "imageButton = Button(root, text=\"Browse Image\", padx=20 ,pady=5, command=browseImages, fg=\"white\",bg=\"#533535\",font=myFont1,border=0)\n",
    "imageButton.place(relx = 0.2, rely = 0.84, anchor = 'center')\n",
    "\n",
    "recognizeButton = Button(root, text=\"Recognize !\", padx=20 ,pady=5, command=reco,fg=\"white\",bg=\"#064635\",font=myFont1,border=0)\n",
    "recognizeButton.place(relx = 0.51, rely = 0.88, anchor = 'center')\n",
    "\n",
    "clearButton = Button(root, text=\"Clear image\", padx=20 ,pady=5, command=clear_label_image,fg=\"white\",bg=\"#533535\",font=myFont1,border=0)\n",
    "clearButton.place(relx = 0.8, rely = 0.84, anchor = 'center')\n",
    "\n",
    "\n",
    "\n",
    "root.mainloop()"
   ]
  },
  {
   "cell_type": "code",
   "execution_count": 8,
   "id": "47cd1db9",
   "metadata": {},
   "outputs": [
    {
     "data": {
      "image/png": "[encoded data removed]",
      "text/plain": [
       "<Figure size 720x720 with 2 Axes>"
      ]
     },
     "metadata": {
      "needs_background": "light"
     },
     "output_type": "display_data"
    },
    {
     "data": {
      "image/png": "[encoded data removed]",
      "text/plain": [
       "<Figure size 720x720 with 2 Axes>"
      ]
     },
     "metadata": {
      "needs_background": "light"
     },
     "output_type": "display_data"
    }
   ],
   "source": [
    "\n",
    "fig, ax = plt.subplots(figsize=(10, 10))\n",
    "ax.set_title('Decision Tree Testing Performance');\n",
    "plt.rcParams.update({'font.size': 15})\n",
    "from sklearn.metrics import plot_confusion_matrix\n",
    "plot_confusion_matrix(DecisionTreeClassifierModel, X_test, y_test,ax=ax,cmap=plt.cm.Blues) \n",
    "plt.savefig('Decision Tree Testing Performance.png')\n",
    "plt.show()\n",
    "\n",
    "\n",
    "fig, ax = plt.subplots(figsize=(10, 10))\n",
    "ax.set_title('Decision Tree Training Performance');\n",
    "plt.rcParams.update({'font.size': 15})\n",
    "from sklearn.metrics import plot_confusion_matrix\n",
    "plot_confusion_matrix(DecisionTreeClassifierModel, X_train, y_train,ax=ax,cmap=plt.cm.Reds) \n",
    "plt.savefig('Decision Tree Training Performance.png')\n",
    "plt.show()"
   ]
  },
  {
   "cell_type": "code",
   "execution_count": null,
   "id": "0eb8d95a",
   "metadata": {},
   "outputs": [],
   "source": []
  },
  {
   "cell_type": "code",
   "execution_count": null,
   "id": "387791d4",
   "metadata": {},
   "outputs": [],
   "source": []
  }
 ],
 "metadata": {
  "kernelspec": {
   "display_name": "Python 3 (ipykernel)",
   "language": "python",
   "name": "python3"
  },
  "language_info": {
   "codemirror_mode": {
    "name": "ipython",
    "version": 3
   },
   "file_extension": ".py",
   "mimetype": "text/x-python",
   "name": "python",
   "nbconvert_exporter": "python",
   "pygments_lexer": "ipython3",
   "version": "3.9.7"
  }
 },
 "nbformat": 4,
 "nbformat_minor": 5
}
