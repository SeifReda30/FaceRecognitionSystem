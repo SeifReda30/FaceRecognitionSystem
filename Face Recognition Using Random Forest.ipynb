{
 "cells": [
  {
   "cell_type": "code",
   "execution_count": 17,
   "id": "918a7d0c",
   "metadata": {},
   "outputs": [],
   "source": [
    "import pyodbc\n",
    "import matplotlib.pyplot as plt\n",
    "import io\n",
    "import os\n",
    "from PIL import Image\n",
    "from numpy import asarray\n",
    "import numpy as np\n",
    "import cv2\n",
    "from mtcnn.mtcnn import MTCNN\n",
    "from numpy import expand_dims\n",
    "from sklearn.ensemble import RandomForestClassifier\n",
    "from tkinter import *\n",
    "from tkinter import filedialog\n",
    "import imageio\n",
    "from PIL import ImageTk,Image\n",
    "import tkinter.font as font\n",
    "from playsound import playsound\n",
    "from sklearn.metrics import plot_confusion_matrix\n"
   ]
  },
  {
   "cell_type": "code",
   "execution_count": 18,
   "id": "b4a98494",
   "metadata": {},
   "outputs": [
    {
     "data": {
      "text/plain": [
       "'\\nconn = pyodbc.connect( \\'Trusted_Connection=yes\\', Driver = \"{SQL Server Native Client 11.0};\" , Server= \\'DESKTOP-E7I8FQH\\' , Database= \\'Pictures\\')\\n \\n \\n \\nd = \"D:\\\\FCAIH Material\\\\Subjects Third Year\\\\First Term\\\\Artificial Intelligence\\\\Project\\\\images\"\\ni=0\\nx=0\\ny=0\\nfor path in os.listdir(d):\\n    if y==50:\\n        i=0\\n        x=0\\n    elif y > 50:\\n        if x == 5:\\n            i += 1\\n            x =0\\n    elif x==10:\\n        i += 1\\n        x = 0\\n    \\n    full_path = os.path.join(d, path)\\n    if os.path.isfile(full_path):\\n        cursor = conn.cursor()\\n        cursor.execute(\"insert into ImageTable (Class, image) values (\"+str(i)+\", (SELECT BulkColumn FROM Openrowset( Bulk \\'\"+full_path+\"\\', Single_Blob) as img))\")\\n        cursor.commit()\\n    x +=1\\n    y +=1\\n\\n'"
      ]
     },
     "execution_count": 18,
     "metadata": {},
     "output_type": "execute_result"
    }
   ],
   "source": [
    "\n",
    " \n",
    " \n",
    "'''\n",
    "conn = pyodbc.connect( 'Trusted_Connection=yes', Driver = \"{SQL Server Native Client 11.0};\" , Server= 'DESKTOP-E7I8FQH' , Database= 'Pictures')\n",
    " \n",
    " \n",
    " \n",
    "d = \"D:\\FCAIH Material\\Subjects Third Year\\First Term\\Artificial Intelligence\\Project\\Project 20 Code\\images\"\n",
    "i=0\n",
    "x=0\n",
    "y=0\n",
    "for path in os.listdir(d):\n",
    "    if y==50:\n",
    "        i=0\n",
    "        x=0\n",
    "    elif y > 50:\n",
    "        if x == 5:\n",
    "            i += 1\n",
    "            x =0\n",
    "    elif x==10:\n",
    "        i += 1\n",
    "        x = 0\n",
    "    \n",
    "    full_path = os.path.join(d, path)\n",
    "    if os.path.isfile(full_path):\n",
    "        cursor = conn.cursor()\n",
    "        cursor.execute(\"insert into ImageTable (Class, image) values (\"+str(i)+\", (SELECT BulkColumn FROM Openrowset( Bulk '\"+full_path+\"', Single_Blob) as img))\")\n",
    "        cursor.commit()\n",
    "    x +=1\n",
    "    y +=1\n",
    "\n",
    "'''"
   ]
  },
  {
   "cell_type": "code",
   "execution_count": 19,
   "id": "82247d0e",
   "metadata": {},
   "outputs": [],
   "source": [
    "#demonstrate face detection on 5 Celebrity Faces Dataset\n",
    "# extract a single face from a given photograph\n",
    "def extract_face(filename, required_size=(100,100)):\n",
    "    # load image from file\n",
    "    image = filename\n",
    "    # convert to RGB, if needed\n",
    "    image = image.convert('RGB')\n",
    "    # convert to array\n",
    "    pixels = asarray(image)\n",
    "    # create the detector, using default weights\n",
    "    detector = MTCNN()\n",
    "    # detect faces in the image\n",
    "    results = detector.detect_faces(pixels)\n",
    "    # extract the bounding box from the first face\n",
    "    x1, y1, width, height = results[0]['box']\n",
    "    # bug fix\n",
    "    x1, y1 = abs(x1), abs(y1)\n",
    "    x2, y2 = x1 + width, y1 + height\n",
    "    # extract the face\n",
    "    face = pixels[y1:y2, x1:x2]\n",
    "    # resize pixels to the model size\n",
    "    image = Image.fromarray(face)\n",
    "    image = image.resize(required_size)\n",
    "    face_array = asarray(image)\n",
    "    # scale pixel values\n",
    "    face_pixels = face_array.astype('float32')\n",
    "    # normalize pixel values\n",
    "    face_pixels = (face_pixels - np.min(face_pixels)) / (np.max(face_pixels) - np.min(face_pixels))\n",
    "    face_pixels = cv2.cvtColor(face_pixels, cv2.COLOR_BGR2GRAY)\n",
    "    # transform face into one sample\n",
    "    samples = expand_dims(face_pixels, axis=0)\n",
    "    samples=samples.flatten()\n",
    "    return samples"
   ]
  },
  {
   "cell_type": "code",
   "execution_count": 20,
   "id": "bf871643",
   "metadata": {},
   "outputs": [],
   "source": [
    "id=[]\n",
    "images=[]\n",
    "X_train=[]\n",
    "y_train=[]\n",
    "X_test=[]\n",
    "y_test=[]\n",
    "\n",
    "conn = pyodbc.connect( 'Trusted_Connection=yes', Driver = \"{SQL Server Native Client 11.0};\" , Server= 'DESKTOP-E7I8FQH' , Database= 'Pictures')\n",
    "\n",
    "\n",
    "\n",
    "global img\n",
    "\n",
    "cursor = conn.cursor()\n",
    "\n",
    "cursor.execute(\"select * from ImageTable\")\n",
    "\n",
    "for row in cursor:\n",
    "    id.append(row[1])\n",
    "    images.append(row[2])\n",
    "\n",
    "for i in range (0,50):\n",
    "    image = Image.open(io.BytesIO(images[i]))\n",
    "    face=extract_face(image).reshape(1,-1)\n",
    "    X_train.append(face)\n",
    "    y_train.append(id[i])\n",
    "\n",
    "for i in range (50,len(images)):\n",
    "    image = Image.open(io.BytesIO(images[i]))\n",
    "    face=extract_face(image).reshape(1,-1)\n",
    "    X_test.append(face)\n",
    "    y_test.append(id[i])\n"
   ]
  },
  {
   "cell_type": "code",
   "execution_count": 11,
   "id": "99db88e9",
   "metadata": {},
   "outputs": [
    {
     "name": "stdout",
     "output_type": "stream",
     "text": [
      "(1, 10000)\n"
     ]
    }
   ],
   "source": [
    "image=Image.open('2.1.jpg')\n",
    "face=extract_face(image).reshape(1,-1)\n",
    "\n",
    "print(face.shape)\n"
   ]
  },
  {
   "cell_type": "code",
   "execution_count": 21,
   "id": "4cb5fbc7",
   "metadata": {},
   "outputs": [
    {
     "name": "stdout",
     "output_type": "stream",
     "text": [
      "(50, 1, 10000)\n",
      "(50, 10000)\n"
     ]
    }
   ],
   "source": [
    "X_train = np.array(X_train)\n",
    "X_train=X_train.reshape(X_train.shape[0],X_train.shape[1]*X_train.shape[2])\n",
    "y_train = np.array(y_train)\n",
    "X_test = np.array(X_test)\n",
    "X_test=X_test.reshape(X_test.shape[0],X_test.shape[1]*X_test.shape[2])\n",
    "y_test = np.array(y_test)\n",
    "#print(X_train.shape)\n",
    "#print(X_test.shape)\n",
    "#print(y_train.shape)\n",
    "#print(y_test.shape)"
   ]
  },
  {
   "cell_type": "code",
   "execution_count": 6,
   "id": "ccadda61",
   "metadata": {},
   "outputs": [
    {
     "name": "stdout",
     "output_type": "stream",
     "text": [
      "RandomForestClassifierModel Train Score is :  100.0\n",
      "RandomForestClassifierModel Test Score is :  92.0\n"
     ]
    }
   ],
   "source": [
    "RandomForestClassifierModel = RandomForestClassifier(n_estimators = 200,max_depth=20,random_state=21) #criterion can be also : entropy \n",
    "RandomForestClassifierModel.fit(X_train, y_train)\n",
    "y_pred = RandomForestClassifierModel.predict(X_test)\n",
    "print('RandomForestClassifierModel Train Score is : ' , RandomForestClassifierModel.score(X_train, y_train)*100)\n",
    "print('RandomForestClassifierModel Test Score is : ' , RandomForestClassifierModel.score(X_test, y_test)*100)"
   ]
  },
  {
   "cell_type": "code",
   "execution_count": null,
   "id": "0d68eded",
   "metadata": {},
   "outputs": [],
   "source": []
  },
  {
   "cell_type": "code",
   "execution_count": 7,
   "id": "6ded928d",
   "metadata": {},
   "outputs": [
    {
     "data": {
      "text/plain": [
       "'image = Image.open(\\'47b50f681291eaac1d245d8c6aef08c4.jpg\\')\\nface=extract_face(image).reshape(1,-1)\\nprint(face.shape)\\ny_pred = RandomForestClassifierModel.predict(face)\\ny_pred_prob = RandomForestClassifierModel.predict_proba(face)\\nif (y_pred==0):\\n    print(\\'Mohamed Salah\\')\\nif (y_pred==1):\\n    print(\\'Lionel Messi\\')\\nif (y_pred==2):\\n    print(\\'Will Smith\\')\\nif (y_pred==3):\\n    print(\\'Cristiano Ronaldo\\')\\nif (y_pred==4):\\n    print(\\'Angelina Jolie\\')\\nprint(y_pred_prob*100)\\nimport matplotlib.pyplot as plt\\nimport matplotlib.image as mpimg\\nimgplot = plt.imshow(face.reshape(100,100),cmap=\"gray\")\\nplt.show()\\n'"
      ]
     },
     "execution_count": 7,
     "metadata": {},
     "output_type": "execute_result"
    }
   ],
   "source": [
    "'''image = Image.open('47b50f681291eaac1d245d8c6aef08c4.jpg')\n",
    "face=extract_face(image).reshape(1,-1)\n",
    "print(face.shape)\n",
    "y_pred = RandomForestClassifierModel.predict(face)\n",
    "y_pred_prob = RandomForestClassifierModel.predict_proba(face)\n",
    "if (y_pred==0):\n",
    "    print('Mohamed Salah')\n",
    "if (y_pred==1):\n",
    "    print('Lionel Messi')\n",
    "if (y_pred==2):\n",
    "    print('Will Smith')\n",
    "if (y_pred==3):\n",
    "    print('Cristiano Ronaldo')\n",
    "if (y_pred==4):\n",
    "    print('Angelina Jolie')\n",
    "print(y_pred_prob*100)\n",
    "import matplotlib.pyplot as plt\n",
    "import matplotlib.image as mpimg\n",
    "imgplot = plt.imshow(face.reshape(100,100),cmap=\"gray\")\n",
    "plt.show()\n",
    "'''"
   ]
  },
  {
   "cell_type": "code",
   "execution_count": null,
   "id": "b54ddc2b",
   "metadata": {},
   "outputs": [],
   "source": [
    "root = Tk()\n",
    "bg = ImageTk.PhotoImage(file=\"ground.jpg\")\n",
    "canvas = Canvas(root,width= 400, height= 300)\n",
    "canvas.pack(fill= \"both\", expand=True)\n",
    "canvas.create_image(0, 0, image=bg, anchor=\"nw\")\n",
    "root.title(\"Face Recognition Using Random Forest\")\n",
    "root.geometry(\"1000x702\")\n",
    "myFont1 = font.Font(family=\"Helvetica\",size=12,weight=\"bold\")\n",
    "myFont2 = font.Font(family=\"Helvetica\",size=18,weight=\"bold\")\n",
    "\n",
    "def browseImages():\n",
    "    filename = filedialog.askopenfilename(initialdir = \"/\", title = \"Select an Image\",\n",
    "                                          filetypes = ((\"jpg\",\"*.jpg*\"),\n",
    "                                                       (\"png\",\"*.png*\"),\n",
    "                                                       (\"jpeg\",\"*.jpeg*\"),\n",
    "                                                       (\"jfif\",\"*.jfif*\"),\n",
    "                                                        )\n",
    "                                         )\n",
    "    global imag\n",
    "    imag=Image.open(filename)\n",
    "    img=ImageTk.PhotoImage(Image.open(filename).resize((350,350)))\n",
    "    global label\n",
    "    label = Label(root, padx=200 ,pady=150)\n",
    "    label.place(relx = 0.5, rely = 0.42, anchor = 'center')\n",
    "    label.configure(image=img)\n",
    "    label.image = img\n",
    "\n",
    "    \n",
    "def classify_image(img):\n",
    "    var = StringVar()\n",
    "    face=extract_face(img).reshape(1,-1)\n",
    "    y_pred = RandomForestClassifierModel.predict(face)\n",
    "    global label3\n",
    "    if(y_pred==0):\n",
    "            label3 = Label(root,text=\"Mohamed Salah\" , fg = \"Black\", padx=1000 ,pady=28,font=myFont2)\n",
    "            label3.place(relx = 0.5, rely = 0.05,anchor='center')\n",
    "            playsound(\"D:\\FCAIH Material\\Subjects Third Year\\First Term\\Artificial Intelligence\\Project\\project ai\\sounds\\Mo Salah, The Egyptian King! _ Learn LFC Songs (mp3cut.net).mp3\")\n",
    "    if(y_pred==1):\n",
    "            label3 = Label(root,text=\"Lionel Messi\" , fg = \"Black\", padx=1000 ,pady=28,font=myFont2)\n",
    "            label3.place(relx = 0.5, rely = 0.05,anchor='center')\n",
    "            playsound(\"D:\\FCAIH Material\\Subjects Third Year\\First Term\\Artificial Intelligence\\Project\\project ai\\sounds\\messi.mp3\")\n",
    "    if(y_pred==2):\n",
    "            label3 = Label(root,text=\"Will Smith\" , fg = \"Black\", padx=1000 ,pady=28,font=myFont2)\n",
    "            label3.place(relx = 0.5, rely = 0.05,anchor='center')\n",
    "            playsound(\"D:\\FCAIH Material\\Subjects Third Year\\First Term\\Artificial Intelligence\\Project\\project ai\\sounds\\mp3-output-ttsfree(dot)comwill.mp3\")\n",
    "    if(y_pred==3):\n",
    "            label3 = Label(root,text=\"Cristiano Ronaldo\" , fg = \"Black\", padx=1000 ,pady=28,font=myFont2)\n",
    "            label3.place(relx = 0.5, rely = 0.05,anchor='center')\n",
    "            playsound(\"D:\\FCAIH Material\\Subjects Third Year\\First Term\\Artificial Intelligence\\Project\\project ai\\sounds\\Siuuu Sound Effect #2.mp3\")\n",
    "    if(y_pred==4):\n",
    "            label3 = Label(root,text=\"Angelina Jolie\" , fg = \"Black\", padx=1000 ,pady=28,font=myFont2)\n",
    "            label3.place(relx = 0.5, rely = 0.05,anchor='center')\n",
    "            playsound(\"D:\\FCAIH Material\\Subjects Third Year\\First Term\\Artificial Intelligence\\Project\\project ai\\sounds\\mp3-output-ttsfree(dot)com.mp3\")\n",
    "\n",
    "\n",
    "def clear_label_image():\n",
    "    label.destroy()\n",
    "    label3.destroy()\n",
    "    \n",
    "\n",
    "    \n",
    "def reco():\n",
    "        classify_image(imag)\n",
    "        \n",
    "\n",
    "\n",
    "imageButton = Button(root, text=\"Browse Image\", padx=20 ,pady=5, command=browseImages, fg=\"white\",bg=\"#533535\",font=myFont1,border=0)\n",
    "imageButton.place(relx = 0.2, rely = 0.84, anchor = 'center')\n",
    "\n",
    "recognizeButton = Button(root, text=\"Recognize !\", padx=20 ,pady=5, command=reco,fg=\"white\",bg=\"#064635\",font=myFont1,border=0)\n",
    "recognizeButton.place(relx = 0.51, rely = 0.88, anchor = 'center')\n",
    "\n",
    "clearButton = Button(root, text=\"Clear image\", padx=20 ,pady=5, command=clear_label_image,fg=\"white\",bg=\"#533535\",font=myFont1,border=0)\n",
    "clearButton.place(relx = 0.8, rely = 0.84, anchor = 'center')\n",
    "\n",
    "\n",
    "\n",
    "root.mainloop()"
   ]
  },
  {
   "cell_type": "code",
   "execution_count": null,
   "id": "c90f89f7",
   "metadata": {},
   "outputs": [],
   "source": [
    "from sklearn import metrics\n",
    "y_pred = RandomForestClassifierModel.predict(X_test)\n",
    "print(\"Accuracy:\",metrics.accuracy_score(y_test, y_pred))"
   ]
  },
  {
   "cell_type": "code",
   "execution_count": null,
   "id": "22a0317a",
   "metadata": {},
   "outputs": [],
   "source": [
    "fig, ax = plt.subplots(figsize=(10, 10))\n",
    "ax.set_title('Random Forest Testing Performance');\n",
    "plt.rcParams.update({'font.size': 15})\n",
    "from sklearn.metrics import plot_confusion_matrix\n",
    "plot_confusion_matrix(RandomForestClassifierModel, X_test, y_test ,ax=ax,cmap=plt.cm.Blues) \n",
    "plt.savefig('Random Forest Testing Performance.png')\n",
    "plt.show()\n",
    "\n",
    "\n",
    "fig, ax = plt.subplots(figsize=(10, 10))\n",
    "ax.set_title('Random Forest Training Performance');\n",
    "plt.rcParams.update({'font.size': 15})\n",
    "from sklearn.metrics import plot_confusion_matrix\n",
    "plot_confusion_matrix(RandomForestClassifierModel, X_train, y_train,ax=ax,cmap=plt.cm.Reds) \n",
    "plt.savefig('Random Forest Training Performance.png')\n",
    "plt.show()"
   ]
  },
  {
   "cell_type": "code",
   "execution_count": null,
   "id": "fda9593b",
   "metadata": {},
   "outputs": [],
   "source": []
  },
  {
   "cell_type": "code",
   "execution_count": null,
   "id": "7f0749ca",
   "metadata": {},
   "outputs": [],
   "source": []
  }
 ],
 "metadata": {
  "kernelspec": {
   "display_name": "Python 3 (ipykernel)",
   "language": "python",
   "name": "python3"
  },
  "language_info": {
   "codemirror_mode": {
    "name": "ipython",
    "version": 3
   },
   "file_extension": ".py",
   "mimetype": "text/x-python",
   "name": "python",
   "nbconvert_exporter": "python",
   "pygments_lexer": "ipython3",
   "version": "3.9.7"
  }
 },
 "nbformat": 4,
 "nbformat_minor": 5
}
